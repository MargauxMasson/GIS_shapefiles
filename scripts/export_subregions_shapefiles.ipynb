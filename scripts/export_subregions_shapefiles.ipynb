{
  "nbformat": 4,
  "nbformat_minor": 0,
  "metadata": {
    "colab": {
      "name": "export_subregions_shapefiles.ipynb",
      "provenance": [],
      "collapsed_sections": [
        "EEnBmep7jX7j",
        "m162WKgMjbUO"
      ]
    },
    "kernelspec": {
      "name": "python3",
      "display_name": "Python 3"
    }
  },
  "cells": [
    {
      "cell_type": "markdown",
      "metadata": {
        "id": "EEnBmep7jX7j"
      },
      "source": [
        "## Imports"
      ]
    },
    {
      "cell_type": "code",
      "metadata": {
        "colab": {
          "base_uri": "https://localhost:8080/"
        },
        "id": "n3YgWaIoi95c",
        "outputId": "f51b60d7-26dd-4d35-f1fe-4e25de902a4a"
      },
      "source": [
        "!pip install Unidecode "
      ],
      "execution_count": 1,
      "outputs": [
        {
          "output_type": "stream",
          "text": [
            "Collecting Unidecode\n",
            "\u001b[?25l  Downloading https://files.pythonhosted.org/packages/9e/25/723487ca2a52ebcee88a34d7d1f5a4b80b793f179ee0f62d5371938dfa01/Unidecode-1.2.0-py2.py3-none-any.whl (241kB)\n",
            "\r\u001b[K     |█▍                              | 10kB 12.7MB/s eta 0:00:01\r\u001b[K     |██▊                             | 20kB 14.8MB/s eta 0:00:01\r\u001b[K     |████                            | 30kB 7.8MB/s eta 0:00:01\r\u001b[K     |█████▍                          | 40kB 6.9MB/s eta 0:00:01\r\u001b[K     |██████▉                         | 51kB 6.7MB/s eta 0:00:01\r\u001b[K     |████████▏                       | 61kB 7.1MB/s eta 0:00:01\r\u001b[K     |█████████▌                      | 71kB 4.9MB/s eta 0:00:01\r\u001b[K     |██████████▉                     | 81kB 5.4MB/s eta 0:00:01\r\u001b[K     |████████████▏                   | 92kB 6.0MB/s eta 0:00:01\r\u001b[K     |█████████████▋                  | 102kB 6.5MB/s eta 0:00:01\r\u001b[K     |███████████████                 | 112kB 6.5MB/s eta 0:00:01\r\u001b[K     |████████████████▎               | 122kB 6.5MB/s eta 0:00:01\r\u001b[K     |█████████████████▋              | 133kB 6.5MB/s eta 0:00:01\r\u001b[K     |███████████████████             | 143kB 6.5MB/s eta 0:00:01\r\u001b[K     |████████████████████▍           | 153kB 6.5MB/s eta 0:00:01\r\u001b[K     |█████████████████████▊          | 163kB 6.5MB/s eta 0:00:01\r\u001b[K     |███████████████████████         | 174kB 6.5MB/s eta 0:00:01\r\u001b[K     |████████████████████████▍       | 184kB 6.5MB/s eta 0:00:01\r\u001b[K     |█████████████████████████▊      | 194kB 6.5MB/s eta 0:00:01\r\u001b[K     |███████████████████████████▏    | 204kB 6.5MB/s eta 0:00:01\r\u001b[K     |████████████████████████████▌   | 215kB 6.5MB/s eta 0:00:01\r\u001b[K     |█████████████████████████████▉  | 225kB 6.5MB/s eta 0:00:01\r\u001b[K     |███████████████████████████████▏| 235kB 6.5MB/s eta 0:00:01\r\u001b[K     |████████████████████████████████| 245kB 6.5MB/s \n",
            "\u001b[?25hInstalling collected packages: Unidecode\n",
            "Successfully installed Unidecode-1.2.0\n"
          ],
          "name": "stdout"
        }
      ]
    },
    {
      "cell_type": "code",
      "metadata": {
        "colab": {
          "base_uri": "https://localhost:8080/"
        },
        "id": "OfOxEhBejGGs",
        "outputId": "bc9462d9-e63f-423f-9ea2-181ac99c3a79"
      },
      "source": [
        "import ee\n",
        "from unidecode import unidecode\n",
        "#initialize google earth engine\n",
        "try:\n",
        "  ee.Initialize()\n",
        "except:\n",
        "  ee.Authenticate()\n",
        "  ee.Initialize()"
      ],
      "execution_count": 2,
      "outputs": [
        {
          "output_type": "stream",
          "text": [
            "To authorize access needed by Earth Engine, open the following URL in a web browser and follow the instructions. If the web browser does not start automatically, please manually browse the URL below.\n",
            "\n",
            "    https://accounts.google.com/o/oauth2/auth?client_id=517222506229-vsmmajv00ul0bs7p89v5m89qs8eb9359.apps.googleusercontent.com&scope=https%3A%2F%2Fwww.googleapis.com%2Fauth%2Fearthengine+https%3A%2F%2Fwww.googleapis.com%2Fauth%2Fdevstorage.full_control&redirect_uri=urn%3Aietf%3Awg%3Aoauth%3A2.0%3Aoob&response_type=code&code_challenge=EQo9lfWp0xo1k_w21wZOVZQSG7jBKoSHEmPKFXNzCbU&code_challenge_method=S256\n",
            "\n",
            "The authorization workflow will generate a code, which you should paste in the box below. \n",
            "Enter verification code: 4/1AY0e-g6FYM5z8fYLAS6mjnnUmDeAljkIQv8ppfY4dAgxYu5zSiHzXjmVNbw\n",
            "\n",
            "Successfully saved authorization token.\n"
          ],
          "name": "stdout"
        }
      ]
    },
    {
      "cell_type": "markdown",
      "metadata": {
        "id": "m162WKgMjbUO"
      },
      "source": [
        "## Functions"
      ]
    },
    {
      "cell_type": "code",
      "metadata": {
        "id": "wMl7Nr1mjBe5"
      },
      "source": [
        "def export_subregions_shapefile_to_drive(name_counties, shapefile_collection=\"users/margauxmasson21/USA_counties\", folder_drive_name=\"GEE_features\"):\n",
        "  region = ee.FeatureCollection(shapefile_collection)\n",
        "  region_list = region.toList(region.size());\n",
        "\n",
        "  for idx, region in enumerate(region_list.getInfo()):\n",
        "    key = name_counties(region)\n",
        "    key = key.replace(\"'\",\"\")\n",
        "    print(\"{}: {}\".format(idx, key))\n",
        "    feat = ee.Feature(region_list.get(idx));\n",
        "\n",
        "    task = ee.batch.Export.table.toDrive(**{\n",
        "      'collection': ee.FeatureCollection([feat]),\n",
        "      'description': key,\n",
        "      'folder': folder_drive_name,\n",
        "      'fileNamePrefix':key, \n",
        "      'fileFormat': \"SHP\",\n",
        "      })\n",
        "    task.start()\n",
        "    while task.status()['state'] == 'RUNNING':\n",
        "      print('Running...')\n",
        "      time.sleep(60)\n",
        "  print('Done.'.format(task.status()))\n",
        "    "
      ],
      "execution_count": 7,
      "outputs": []
    },
    {
      "cell_type": "markdown",
      "metadata": {
        "id": "u_wxStZwjdHm"
      },
      "source": [
        "## Export Subregions shapefiles "
      ]
    },
    {
      "cell_type": "code",
      "metadata": {
        "id": "GbiG4e5AjCxO"
      },
      "source": [
        "get_name = lambda r, l: unidecode(r.get('properties').get(l)).lower().translate(\"'()/&-\").strip()\n",
        "name_counties = lambda region: get_name(region, 'NAME_1') + \"_\" + get_name(region, 'NAME_2') \n",
        "export_subregions_shapefile_to_drive(name_counties, \"users/margauxmasson21/USA_counties\", \"GEE_Features_counties\")"
      ],
      "execution_count": null,
      "outputs": []
    },
    {
      "cell_type": "code",
      "metadata": {
        "colab": {
          "base_uri": "https://localhost:8080/"
        },
        "id": "zHb_QM30jQnN",
        "outputId": "2b2f472b-d790-4f6c-bc6f-4574199b933e"
      },
      "source": [
        "get_name = lambda r, l: unidecode(r.get('properties').get(l)).lower().translate(\"'()/&-\").strip()\n",
        "name_states = lambda region: get_name(region, 'NAME_1') \n",
        "export_subregions_shapefile_to_drive(name_states, \"users/margauxmasson21/USA_states\", \"GEE_Features_states\")"
      ],
      "execution_count": 8,
      "outputs": [
        {
          "output_type": "stream",
          "text": [
            "0: colorado\n",
            "1: connecticut\n",
            "2: delaware\n",
            "3: florida\n",
            "4: georgia\n",
            "5: hawaii\n",
            "6: idaho\n",
            "7: illinois\n",
            "8: indiana\n",
            "9: iowa\n",
            "10: kansas\n",
            "11: kentucky\n",
            "12: louisiana\n",
            "13: maine\n",
            "14: maryland\n",
            "15: arizona\n",
            "16: arkansas\n",
            "17: california\n",
            "18: massachusetts\n",
            "19: michigan\n",
            "20: minnesota\n",
            "21: mississippi\n",
            "22: missouri\n",
            "23: montana\n",
            "24: nebraska\n",
            "25: nevada\n",
            "26: new hampshire\n",
            "27: new jersey\n",
            "28: new mexico\n",
            "29: new york\n",
            "30: north carolina\n",
            "31: north dakota\n",
            "32: ohio\n",
            "33: oklahoma\n",
            "34: oregon\n",
            "35: pennsylvania\n",
            "36: rhode island\n",
            "37: south carolina\n",
            "38: south dakota\n",
            "39: tennessee\n",
            "40: texas\n",
            "41: utah\n",
            "42: vermont\n",
            "43: virginia\n",
            "44: washington\n",
            "45: west virginia\n",
            "46: wisconsin\n",
            "47: wyoming\n",
            "48: alabama\n",
            "49: alaska\n",
            "50: district of columbia\n",
            "Done.\n"
          ],
          "name": "stdout"
        }
      ]
    }
  ]
}